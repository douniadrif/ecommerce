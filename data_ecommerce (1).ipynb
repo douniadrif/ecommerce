{
 "cells": [
  {
   "cell_type": "code",
   "execution_count": 1,
   "metadata": {},
   "outputs": [],
   "source": [
    "#pip install pandas"
   ]
  },
  {
   "cell_type": "code",
   "execution_count": 2,
   "metadata": {},
   "outputs": [],
   "source": [
    "import pandas as pd"
   ]
  },
  {
   "cell_type": "code",
   "execution_count": 3,
   "metadata": {},
   "outputs": [
    {
     "name": "stderr",
     "output_type": "stream",
     "text": [
      "/Users/macosx/opt/anaconda3/lib/python3.8/site-packages/IPython/core/interactiveshell.py:3146: DtypeWarning: Columns (8,9) have mixed types.Specify dtype option on import or set low_memory=False.\n",
      "  has_raised = await self.run_ast_nodes(code_ast.body, cell_name,\n"
     ]
    }
   ],
   "source": [
    "df=pd.read_csv('/Users/macosx/Downloads/ecommerce.csv')"
   ]
  },
  {
   "cell_type": "code",
   "execution_count": 4,
   "metadata": {},
   "outputs": [
    {
     "data": {
      "text/html": [
       "<div>\n",
       "<style scoped>\n",
       "    .dataframe tbody tr th:only-of-type {\n",
       "        vertical-align: middle;\n",
       "    }\n",
       "\n",
       "    .dataframe tbody tr th {\n",
       "        vertical-align: top;\n",
       "    }\n",
       "\n",
       "    .dataframe thead th {\n",
       "        text-align: right;\n",
       "    }\n",
       "</style>\n",
       "<table border=\"1\" class=\"dataframe\">\n",
       "  <thead>\n",
       "    <tr style=\"text-align: right;\">\n",
       "      <th></th>\n",
       "      <th>Order ID</th>\n",
       "      <th>Order Date</th>\n",
       "      <th>Ship Date</th>\n",
       "      <th>Aging</th>\n",
       "      <th>Ship Mode</th>\n",
       "      <th>Product Category</th>\n",
       "      <th>Product</th>\n",
       "      <th>Sales</th>\n",
       "      <th>Quantity</th>\n",
       "      <th>Discount</th>\n",
       "      <th>...</th>\n",
       "      <th>Shipping Cost</th>\n",
       "      <th>Order Priority</th>\n",
       "      <th>Customer ID</th>\n",
       "      <th>Customer Name</th>\n",
       "      <th>Segment</th>\n",
       "      <th>City</th>\n",
       "      <th>State</th>\n",
       "      <th>Country</th>\n",
       "      <th>Region</th>\n",
       "      <th>Months</th>\n",
       "    </tr>\n",
       "  </thead>\n",
       "  <tbody>\n",
       "    <tr>\n",
       "      <th>0</th>\n",
       "      <td>AU-2015-1</td>\n",
       "      <td>11/9/15</td>\n",
       "      <td>11/17/15</td>\n",
       "      <td>8.0</td>\n",
       "      <td>First Class</td>\n",
       "      <td>Auto &amp; Accessories</td>\n",
       "      <td>Car Media Players</td>\n",
       "      <td>$140.00</td>\n",
       "      <td>2</td>\n",
       "      <td>0.05</td>\n",
       "      <td>...</td>\n",
       "      <td>$4.60</td>\n",
       "      <td>Medium</td>\n",
       "      <td>LS-001</td>\n",
       "      <td>Lane Daniels</td>\n",
       "      <td>Consumer</td>\n",
       "      <td>Brisbane</td>\n",
       "      <td>Queensland</td>\n",
       "      <td>Australia</td>\n",
       "      <td>Oceania</td>\n",
       "      <td>Nov</td>\n",
       "    </tr>\n",
       "    <tr>\n",
       "      <th>1</th>\n",
       "      <td>AU-2015-2</td>\n",
       "      <td>6/30/15</td>\n",
       "      <td>7/2/15</td>\n",
       "      <td>2.0</td>\n",
       "      <td>First Class</td>\n",
       "      <td>Auto &amp; Accessories</td>\n",
       "      <td>Car Speakers</td>\n",
       "      <td>$211.00</td>\n",
       "      <td>3</td>\n",
       "      <td>0.03</td>\n",
       "      <td>...</td>\n",
       "      <td>$11.20</td>\n",
       "      <td>Medium</td>\n",
       "      <td>IZ-002</td>\n",
       "      <td>Alvarado Kriz</td>\n",
       "      <td>Home Office</td>\n",
       "      <td>Berlin</td>\n",
       "      <td>Berlin</td>\n",
       "      <td>Germany</td>\n",
       "      <td>Central</td>\n",
       "      <td>Jun</td>\n",
       "    </tr>\n",
       "    <tr>\n",
       "      <th>2</th>\n",
       "      <td>AU-2015-3</td>\n",
       "      <td>12/5/15</td>\n",
       "      <td>12/13/15</td>\n",
       "      <td>8.0</td>\n",
       "      <td>First Class</td>\n",
       "      <td>Auto &amp; Accessories</td>\n",
       "      <td>Car Body Covers</td>\n",
       "      <td>$117.00</td>\n",
       "      <td>5</td>\n",
       "      <td>0.01</td>\n",
       "      <td>...</td>\n",
       "      <td>$3.10</td>\n",
       "      <td>Critical</td>\n",
       "      <td>EN-003</td>\n",
       "      <td>Moon Weien</td>\n",
       "      <td>Consumer</td>\n",
       "      <td>Porirua</td>\n",
       "      <td>Wellington</td>\n",
       "      <td>New Zealand</td>\n",
       "      <td>Oceania</td>\n",
       "      <td>Dec</td>\n",
       "    </tr>\n",
       "    <tr>\n",
       "      <th>3</th>\n",
       "      <td>AU-2015-4</td>\n",
       "      <td>5/9/15</td>\n",
       "      <td>5/16/15</td>\n",
       "      <td>7.0</td>\n",
       "      <td>First Class</td>\n",
       "      <td>Auto &amp; Accessories</td>\n",
       "      <td>Car &amp; Bike Care</td>\n",
       "      <td>$118.00</td>\n",
       "      <td>2</td>\n",
       "      <td>0.05</td>\n",
       "      <td>...</td>\n",
       "      <td>$2.60</td>\n",
       "      <td>High</td>\n",
       "      <td>AN-004</td>\n",
       "      <td>Sanchez Bergman</td>\n",
       "      <td>Corporate</td>\n",
       "      <td>Kabul</td>\n",
       "      <td>Kabul</td>\n",
       "      <td>Afghanistan</td>\n",
       "      <td>Central Asia</td>\n",
       "      <td>May</td>\n",
       "    </tr>\n",
       "    <tr>\n",
       "      <th>4</th>\n",
       "      <td>AU-2015-5</td>\n",
       "      <td>7/9/15</td>\n",
       "      <td>7/18/15</td>\n",
       "      <td>9.0</td>\n",
       "      <td>First Class</td>\n",
       "      <td>Auto &amp; Accessories</td>\n",
       "      <td>Tyre</td>\n",
       "      <td>$250.00</td>\n",
       "      <td>1</td>\n",
       "      <td>0.04</td>\n",
       "      <td>...</td>\n",
       "      <td>$16.00</td>\n",
       "      <td>Critical</td>\n",
       "      <td>ON-005</td>\n",
       "      <td>Rowe Jackson</td>\n",
       "      <td>Corporate</td>\n",
       "      <td>Townsville</td>\n",
       "      <td>Queensland</td>\n",
       "      <td>Australia</td>\n",
       "      <td>Oceania</td>\n",
       "      <td>Jul</td>\n",
       "    </tr>\n",
       "  </tbody>\n",
       "</table>\n",
       "<p>5 rows × 21 columns</p>\n",
       "</div>"
      ],
      "text/plain": [
       "    Order ID Order Date Ship Date  Aging    Ship Mode    Product Category  \\\n",
       "0  AU-2015-1    11/9/15  11/17/15    8.0  First Class  Auto & Accessories   \n",
       "1  AU-2015-2    6/30/15    7/2/15    2.0  First Class  Auto & Accessories   \n",
       "2  AU-2015-3    12/5/15  12/13/15    8.0  First Class  Auto & Accessories   \n",
       "3  AU-2015-4     5/9/15   5/16/15    7.0  First Class  Auto & Accessories   \n",
       "4  AU-2015-5     7/9/15   7/18/15    9.0  First Class  Auto & Accessories   \n",
       "\n",
       "             Product     Sales Quantity Discount  ... Shipping Cost  \\\n",
       "0  Car Media Players  $140.00         2     0.05  ...        $4.60    \n",
       "1       Car Speakers  $211.00         3     0.03  ...       $11.20    \n",
       "2    Car Body Covers  $117.00         5     0.01  ...        $3.10    \n",
       "3    Car & Bike Care  $118.00         2     0.05  ...        $2.60    \n",
       "4               Tyre  $250.00         1     0.04  ...       $16.00    \n",
       "\n",
       "  Order Priority Customer ID    Customer Name      Segment        City  \\\n",
       "0         Medium      LS-001     Lane Daniels     Consumer    Brisbane   \n",
       "1         Medium      IZ-002    Alvarado Kriz  Home Office      Berlin   \n",
       "2       Critical      EN-003       Moon Weien     Consumer     Porirua   \n",
       "3           High      AN-004  Sanchez Bergman    Corporate       Kabul   \n",
       "4       Critical      ON-005     Rowe Jackson    Corporate  Townsville   \n",
       "\n",
       "        State      Country        Region Months  \n",
       "0  Queensland    Australia       Oceania    Nov  \n",
       "1      Berlin      Germany       Central    Jun  \n",
       "2  Wellington  New Zealand       Oceania    Dec  \n",
       "3       Kabul  Afghanistan  Central Asia    May  \n",
       "4  Queensland    Australia       Oceania    Jul  \n",
       "\n",
       "[5 rows x 21 columns]"
      ]
     },
     "execution_count": 4,
     "metadata": {},
     "output_type": "execute_result"
    }
   ],
   "source": [
    "df.head()"
   ]
  },
  {
   "cell_type": "code",
   "execution_count": 5,
   "metadata": {},
   "outputs": [
    {
     "data": {
      "text/plain": [
       "Order ID            0\n",
       "Order Date          1\n",
       "Ship Date           0\n",
       "Aging               1\n",
       "Ship Mode           0\n",
       "Product Category    0\n",
       "Product             0\n",
       "Sales               0\n",
       "Quantity            1\n",
       "Discount            0\n",
       "Profit              0\n",
       "Shipping Cost       0\n",
       "Order Priority      2\n",
       "Customer ID         1\n",
       "Customer Name       0\n",
       "Segment             1\n",
       "City                0\n",
       "State               0\n",
       "Country             0\n",
       "Region              1\n",
       "Months              0\n",
       "dtype: int64"
      ]
     },
     "execution_count": 5,
     "metadata": {},
     "output_type": "execute_result"
    }
   ],
   "source": [
    "df.isna().sum()"
   ]
  },
  {
   "cell_type": "code",
   "execution_count": 6,
   "metadata": {},
   "outputs": [],
   "source": [
    "df = df.dropna()"
   ]
  },
  {
   "cell_type": "code",
   "execution_count": 7,
   "metadata": {},
   "outputs": [],
   "source": [
    "df.to_csv('/Users/macosx/Downloads/ecommerce_vf.csv')"
   ]
  },
  {
   "cell_type": "code",
   "execution_count": 8,
   "metadata": {},
   "outputs": [
    {
     "data": {
      "text/plain": [
       "Order ID            0\n",
       "Order Date          0\n",
       "Ship Date           0\n",
       "Aging               0\n",
       "Ship Mode           0\n",
       "Product Category    0\n",
       "Product             0\n",
       "Sales               0\n",
       "Quantity            0\n",
       "Discount            0\n",
       "Profit              0\n",
       "Shipping Cost       0\n",
       "Order Priority      0\n",
       "Customer ID         0\n",
       "Customer Name       0\n",
       "Segment             0\n",
       "City                0\n",
       "State               0\n",
       "Country             0\n",
       "Region              0\n",
       "Months              0\n",
       "dtype: int64"
      ]
     },
     "execution_count": 8,
     "metadata": {},
     "output_type": "execute_result"
    }
   ],
   "source": [
    "df.isna().sum()"
   ]
  },
  {
   "cell_type": "code",
   "execution_count": 9,
   "metadata": {},
   "outputs": [
    {
     "data": {
      "text/plain": [
       "(51282, 21)"
      ]
     },
     "execution_count": 9,
     "metadata": {},
     "output_type": "execute_result"
    }
   ],
   "source": [
    "df.shape"
   ]
  },
  {
   "cell_type": "code",
   "execution_count": 10,
   "metadata": {},
   "outputs": [
    {
     "data": {
      "text/html": [
       "<div>\n",
       "<style scoped>\n",
       "    .dataframe tbody tr th:only-of-type {\n",
       "        vertical-align: middle;\n",
       "    }\n",
       "\n",
       "    .dataframe tbody tr th {\n",
       "        vertical-align: top;\n",
       "    }\n",
       "\n",
       "    .dataframe thead th {\n",
       "        text-align: right;\n",
       "    }\n",
       "</style>\n",
       "<table border=\"1\" class=\"dataframe\">\n",
       "  <thead>\n",
       "    <tr style=\"text-align: right;\">\n",
       "      <th></th>\n",
       "      <th>Aging</th>\n",
       "    </tr>\n",
       "  </thead>\n",
       "  <tbody>\n",
       "    <tr>\n",
       "      <th>count</th>\n",
       "      <td>51282.000000</td>\n",
       "    </tr>\n",
       "    <tr>\n",
       "      <th>mean</th>\n",
       "      <td>5.255265</td>\n",
       "    </tr>\n",
       "    <tr>\n",
       "      <th>std</th>\n",
       "      <td>2.960027</td>\n",
       "    </tr>\n",
       "    <tr>\n",
       "      <th>min</th>\n",
       "      <td>1.000000</td>\n",
       "    </tr>\n",
       "    <tr>\n",
       "      <th>25%</th>\n",
       "      <td>3.000000</td>\n",
       "    </tr>\n",
       "    <tr>\n",
       "      <th>50%</th>\n",
       "      <td>5.000000</td>\n",
       "    </tr>\n",
       "    <tr>\n",
       "      <th>75%</th>\n",
       "      <td>8.000000</td>\n",
       "    </tr>\n",
       "    <tr>\n",
       "      <th>max</th>\n",
       "      <td>10.500000</td>\n",
       "    </tr>\n",
       "  </tbody>\n",
       "</table>\n",
       "</div>"
      ],
      "text/plain": [
       "              Aging\n",
       "count  51282.000000\n",
       "mean       5.255265\n",
       "std        2.960027\n",
       "min        1.000000\n",
       "25%        3.000000\n",
       "50%        5.000000\n",
       "75%        8.000000\n",
       "max       10.500000"
      ]
     },
     "execution_count": 10,
     "metadata": {},
     "output_type": "execute_result"
    }
   ],
   "source": [
    "df.describe()\n"
   ]
  },
  {
   "cell_type": "code",
   "execution_count": 11,
   "metadata": {},
   "outputs": [
    {
     "name": "stdout",
     "output_type": "stream",
     "text": [
      "<class 'pandas.core.frame.DataFrame'>\n",
      "Int64Index: 51282 entries, 0 to 51289\n",
      "Data columns (total 21 columns):\n",
      " #   Column            Non-Null Count  Dtype  \n",
      "---  ------            --------------  -----  \n",
      " 0   Order ID          51282 non-null  object \n",
      " 1   Order Date        51282 non-null  object \n",
      " 2   Ship Date         51282 non-null  object \n",
      " 3   Aging             51282 non-null  float64\n",
      " 4   Ship Mode         51282 non-null  object \n",
      " 5   Product Category  51282 non-null  object \n",
      " 6   Product           51282 non-null  object \n",
      " 7   Sales             51282 non-null  object \n",
      " 8   Quantity          51282 non-null  object \n",
      " 9   Discount          51282 non-null  object \n",
      " 10  Profit            51282 non-null  object \n",
      " 11  Shipping Cost     51282 non-null  object \n",
      " 12  Order Priority    51282 non-null  object \n",
      " 13  Customer ID       51282 non-null  object \n",
      " 14  Customer Name     51282 non-null  object \n",
      " 15  Segment           51282 non-null  object \n",
      " 16  City              51282 non-null  object \n",
      " 17  State             51282 non-null  object \n",
      " 18  Country           51282 non-null  object \n",
      " 19  Region            51282 non-null  object \n",
      " 20  Months            51282 non-null  object \n",
      "dtypes: float64(1), object(20)\n",
      "memory usage: 8.6+ MB\n"
     ]
    }
   ],
   "source": [
    "df.info()"
   ]
  },
  {
   "cell_type": "code",
   "execution_count": 12,
   "metadata": {},
   "outputs": [
    {
     "data": {
      "text/plain": [
       "0        $140.00 \n",
       "1        $211.00 \n",
       "2        $117.00 \n",
       "3        $118.00 \n",
       "4        $250.00 \n",
       "           ...   \n",
       "51285     $85.00 \n",
       "51286     $85.00 \n",
       "51287     $85.00 \n",
       "51288     $85.00 \n",
       "51289     $85.00 \n",
       "Name: Sales, Length: 51282, dtype: object"
      ]
     },
     "execution_count": 12,
     "metadata": {},
     "output_type": "execute_result"
    }
   ],
   "source": [
    "df.Sales"
   ]
  },
  {
   "cell_type": "code",
   "execution_count": 13,
   "metadata": {},
   "outputs": [
    {
     "data": {
      "text/plain": [
       "0        11/17/15\n",
       "1          7/2/15\n",
       "2        12/13/15\n",
       "3         5/16/15\n",
       "4         7/18/15\n",
       "           ...   \n",
       "51285     1/27/15\n",
       "51286     6/24/15\n",
       "51287      1/7/15\n",
       "51288    12/14/15\n",
       "51289     12/6/15\n",
       "Name: Ship Date, Length: 51282, dtype: object"
      ]
     },
     "execution_count": 13,
     "metadata": {},
     "output_type": "execute_result"
    }
   ],
   "source": [
    "df['Ship Date']"
   ]
  },
  {
   "cell_type": "code",
   "execution_count": 14,
   "metadata": {},
   "outputs": [],
   "source": [
    "df['Ship Date'] = pd.to_datetime(df['Ship Date'])"
   ]
  },
  {
   "cell_type": "code",
   "execution_count": 15,
   "metadata": {},
   "outputs": [],
   "source": [
    "df['mois'] =df['Ship Date'].apply(lambda x: x.month)\n",
    "df['jours'] =df['Ship Date'].apply(lambda x: x.day)"
   ]
  },
  {
   "cell_type": "code",
   "execution_count": 16,
   "metadata": {},
   "outputs": [
    {
     "data": {
      "text/html": [
       "<div>\n",
       "<style scoped>\n",
       "    .dataframe tbody tr th:only-of-type {\n",
       "        vertical-align: middle;\n",
       "    }\n",
       "\n",
       "    .dataframe tbody tr th {\n",
       "        vertical-align: top;\n",
       "    }\n",
       "\n",
       "    .dataframe thead th {\n",
       "        text-align: right;\n",
       "    }\n",
       "</style>\n",
       "<table border=\"1\" class=\"dataframe\">\n",
       "  <thead>\n",
       "    <tr style=\"text-align: right;\">\n",
       "      <th></th>\n",
       "      <th>Order ID</th>\n",
       "      <th>Order Date</th>\n",
       "      <th>Ship Date</th>\n",
       "      <th>Aging</th>\n",
       "      <th>Ship Mode</th>\n",
       "      <th>Product Category</th>\n",
       "      <th>Product</th>\n",
       "      <th>Sales</th>\n",
       "      <th>Quantity</th>\n",
       "      <th>Discount</th>\n",
       "      <th>...</th>\n",
       "      <th>Customer ID</th>\n",
       "      <th>Customer Name</th>\n",
       "      <th>Segment</th>\n",
       "      <th>City</th>\n",
       "      <th>State</th>\n",
       "      <th>Country</th>\n",
       "      <th>Region</th>\n",
       "      <th>Months</th>\n",
       "      <th>mois</th>\n",
       "      <th>jours</th>\n",
       "    </tr>\n",
       "  </thead>\n",
       "  <tbody>\n",
       "    <tr>\n",
       "      <th>0</th>\n",
       "      <td>AU-2015-1</td>\n",
       "      <td>11/9/15</td>\n",
       "      <td>2015-11-17</td>\n",
       "      <td>8.0</td>\n",
       "      <td>First Class</td>\n",
       "      <td>Auto &amp; Accessories</td>\n",
       "      <td>Car Media Players</td>\n",
       "      <td>$140.00</td>\n",
       "      <td>2</td>\n",
       "      <td>0.05</td>\n",
       "      <td>...</td>\n",
       "      <td>LS-001</td>\n",
       "      <td>Lane Daniels</td>\n",
       "      <td>Consumer</td>\n",
       "      <td>Brisbane</td>\n",
       "      <td>Queensland</td>\n",
       "      <td>Australia</td>\n",
       "      <td>Oceania</td>\n",
       "      <td>Nov</td>\n",
       "      <td>11</td>\n",
       "      <td>17</td>\n",
       "    </tr>\n",
       "    <tr>\n",
       "      <th>1</th>\n",
       "      <td>AU-2015-2</td>\n",
       "      <td>6/30/15</td>\n",
       "      <td>2015-07-02</td>\n",
       "      <td>2.0</td>\n",
       "      <td>First Class</td>\n",
       "      <td>Auto &amp; Accessories</td>\n",
       "      <td>Car Speakers</td>\n",
       "      <td>$211.00</td>\n",
       "      <td>3</td>\n",
       "      <td>0.03</td>\n",
       "      <td>...</td>\n",
       "      <td>IZ-002</td>\n",
       "      <td>Alvarado Kriz</td>\n",
       "      <td>Home Office</td>\n",
       "      <td>Berlin</td>\n",
       "      <td>Berlin</td>\n",
       "      <td>Germany</td>\n",
       "      <td>Central</td>\n",
       "      <td>Jun</td>\n",
       "      <td>7</td>\n",
       "      <td>2</td>\n",
       "    </tr>\n",
       "    <tr>\n",
       "      <th>2</th>\n",
       "      <td>AU-2015-3</td>\n",
       "      <td>12/5/15</td>\n",
       "      <td>2015-12-13</td>\n",
       "      <td>8.0</td>\n",
       "      <td>First Class</td>\n",
       "      <td>Auto &amp; Accessories</td>\n",
       "      <td>Car Body Covers</td>\n",
       "      <td>$117.00</td>\n",
       "      <td>5</td>\n",
       "      <td>0.01</td>\n",
       "      <td>...</td>\n",
       "      <td>EN-003</td>\n",
       "      <td>Moon Weien</td>\n",
       "      <td>Consumer</td>\n",
       "      <td>Porirua</td>\n",
       "      <td>Wellington</td>\n",
       "      <td>New Zealand</td>\n",
       "      <td>Oceania</td>\n",
       "      <td>Dec</td>\n",
       "      <td>12</td>\n",
       "      <td>13</td>\n",
       "    </tr>\n",
       "  </tbody>\n",
       "</table>\n",
       "<p>3 rows × 23 columns</p>\n",
       "</div>"
      ],
      "text/plain": [
       "    Order ID Order Date  Ship Date  Aging    Ship Mode    Product Category  \\\n",
       "0  AU-2015-1    11/9/15 2015-11-17    8.0  First Class  Auto & Accessories   \n",
       "1  AU-2015-2    6/30/15 2015-07-02    2.0  First Class  Auto & Accessories   \n",
       "2  AU-2015-3    12/5/15 2015-12-13    8.0  First Class  Auto & Accessories   \n",
       "\n",
       "             Product     Sales Quantity Discount  ... Customer ID  \\\n",
       "0  Car Media Players  $140.00         2     0.05  ...      LS-001   \n",
       "1       Car Speakers  $211.00         3     0.03  ...      IZ-002   \n",
       "2    Car Body Covers  $117.00         5     0.01  ...      EN-003   \n",
       "\n",
       "   Customer Name      Segment      City       State      Country   Region  \\\n",
       "0   Lane Daniels     Consumer  Brisbane  Queensland    Australia  Oceania   \n",
       "1  Alvarado Kriz  Home Office    Berlin      Berlin      Germany  Central   \n",
       "2     Moon Weien     Consumer   Porirua  Wellington  New Zealand  Oceania   \n",
       "\n",
       "  Months mois jours  \n",
       "0    Nov   11    17  \n",
       "1    Jun    7     2  \n",
       "2    Dec   12    13  \n",
       "\n",
       "[3 rows x 23 columns]"
      ]
     },
     "execution_count": 16,
     "metadata": {},
     "output_type": "execute_result"
    }
   ],
   "source": [
    "df.head(3)"
   ]
  },
  {
   "cell_type": "code",
   "execution_count": null,
   "metadata": {},
   "outputs": [],
   "source": []
  },
  {
   "cell_type": "code",
   "execution_count": 17,
   "metadata": {},
   "outputs": [
    {
     "data": {
      "text/plain": [
       "0         $46.00 \n",
       "1        $112.00 \n",
       "2         $31.20 \n",
       "3         $26.20 \n",
       "4        $160.00 \n",
       "           ...   \n",
       "51285     $17.00 \n",
       "51286      $2.50 \n",
       "51287      $0.80 \n",
       "51288     $28.30 \n",
       "51289     $28.30 \n",
       "Name: Profit, Length: 51282, dtype: object"
      ]
     },
     "execution_count": 17,
     "metadata": {},
     "output_type": "execute_result"
    }
   ],
   "source": [
    "df.Profit"
   ]
  },
  {
   "cell_type": "code",
   "execution_count": 18,
   "metadata": {},
   "outputs": [],
   "source": [
    "df['Profit'] =df['Profit'].apply(lambda x: x[2:-1])\n",
    "df['Sales'] =df['Sales'].apply(lambda x: x[2:-1])"
   ]
  },
  {
   "cell_type": "code",
   "execution_count": 19,
   "metadata": {},
   "outputs": [
    {
     "data": {
      "text/html": [
       "<div>\n",
       "<style scoped>\n",
       "    .dataframe tbody tr th:only-of-type {\n",
       "        vertical-align: middle;\n",
       "    }\n",
       "\n",
       "    .dataframe tbody tr th {\n",
       "        vertical-align: top;\n",
       "    }\n",
       "\n",
       "    .dataframe thead th {\n",
       "        text-align: right;\n",
       "    }\n",
       "</style>\n",
       "<table border=\"1\" class=\"dataframe\">\n",
       "  <thead>\n",
       "    <tr style=\"text-align: right;\">\n",
       "      <th></th>\n",
       "      <th>Order ID</th>\n",
       "      <th>Order Date</th>\n",
       "      <th>Ship Date</th>\n",
       "      <th>Aging</th>\n",
       "      <th>Ship Mode</th>\n",
       "      <th>Product Category</th>\n",
       "      <th>Product</th>\n",
       "      <th>Sales</th>\n",
       "      <th>Quantity</th>\n",
       "      <th>Discount</th>\n",
       "      <th>...</th>\n",
       "      <th>Customer ID</th>\n",
       "      <th>Customer Name</th>\n",
       "      <th>Segment</th>\n",
       "      <th>City</th>\n",
       "      <th>State</th>\n",
       "      <th>Country</th>\n",
       "      <th>Region</th>\n",
       "      <th>Months</th>\n",
       "      <th>mois</th>\n",
       "      <th>jours</th>\n",
       "    </tr>\n",
       "  </thead>\n",
       "  <tbody>\n",
       "    <tr>\n",
       "      <th>0</th>\n",
       "      <td>AU-2015-1</td>\n",
       "      <td>11/9/15</td>\n",
       "      <td>2015-11-17</td>\n",
       "      <td>8.0</td>\n",
       "      <td>First Class</td>\n",
       "      <td>Auto &amp; Accessories</td>\n",
       "      <td>Car Media Players</td>\n",
       "      <td>40.00</td>\n",
       "      <td>2</td>\n",
       "      <td>0.05</td>\n",
       "      <td>...</td>\n",
       "      <td>LS-001</td>\n",
       "      <td>Lane Daniels</td>\n",
       "      <td>Consumer</td>\n",
       "      <td>Brisbane</td>\n",
       "      <td>Queensland</td>\n",
       "      <td>Australia</td>\n",
       "      <td>Oceania</td>\n",
       "      <td>Nov</td>\n",
       "      <td>11</td>\n",
       "      <td>17</td>\n",
       "    </tr>\n",
       "    <tr>\n",
       "      <th>1</th>\n",
       "      <td>AU-2015-2</td>\n",
       "      <td>6/30/15</td>\n",
       "      <td>2015-07-02</td>\n",
       "      <td>2.0</td>\n",
       "      <td>First Class</td>\n",
       "      <td>Auto &amp; Accessories</td>\n",
       "      <td>Car Speakers</td>\n",
       "      <td>11.00</td>\n",
       "      <td>3</td>\n",
       "      <td>0.03</td>\n",
       "      <td>...</td>\n",
       "      <td>IZ-002</td>\n",
       "      <td>Alvarado Kriz</td>\n",
       "      <td>Home Office</td>\n",
       "      <td>Berlin</td>\n",
       "      <td>Berlin</td>\n",
       "      <td>Germany</td>\n",
       "      <td>Central</td>\n",
       "      <td>Jun</td>\n",
       "      <td>7</td>\n",
       "      <td>2</td>\n",
       "    </tr>\n",
       "    <tr>\n",
       "      <th>2</th>\n",
       "      <td>AU-2015-3</td>\n",
       "      <td>12/5/15</td>\n",
       "      <td>2015-12-13</td>\n",
       "      <td>8.0</td>\n",
       "      <td>First Class</td>\n",
       "      <td>Auto &amp; Accessories</td>\n",
       "      <td>Car Body Covers</td>\n",
       "      <td>17.00</td>\n",
       "      <td>5</td>\n",
       "      <td>0.01</td>\n",
       "      <td>...</td>\n",
       "      <td>EN-003</td>\n",
       "      <td>Moon Weien</td>\n",
       "      <td>Consumer</td>\n",
       "      <td>Porirua</td>\n",
       "      <td>Wellington</td>\n",
       "      <td>New Zealand</td>\n",
       "      <td>Oceania</td>\n",
       "      <td>Dec</td>\n",
       "      <td>12</td>\n",
       "      <td>13</td>\n",
       "    </tr>\n",
       "  </tbody>\n",
       "</table>\n",
       "<p>3 rows × 23 columns</p>\n",
       "</div>"
      ],
      "text/plain": [
       "    Order ID Order Date  Ship Date  Aging    Ship Mode    Product Category  \\\n",
       "0  AU-2015-1    11/9/15 2015-11-17    8.0  First Class  Auto & Accessories   \n",
       "1  AU-2015-2    6/30/15 2015-07-02    2.0  First Class  Auto & Accessories   \n",
       "2  AU-2015-3    12/5/15 2015-12-13    8.0  First Class  Auto & Accessories   \n",
       "\n",
       "             Product  Sales Quantity Discount  ... Customer ID  Customer Name  \\\n",
       "0  Car Media Players  40.00        2     0.05  ...      LS-001   Lane Daniels   \n",
       "1       Car Speakers  11.00        3     0.03  ...      IZ-002  Alvarado Kriz   \n",
       "2    Car Body Covers  17.00        5     0.01  ...      EN-003     Moon Weien   \n",
       "\n",
       "       Segment      City       State      Country   Region Months mois jours  \n",
       "0     Consumer  Brisbane  Queensland    Australia  Oceania    Nov   11    17  \n",
       "1  Home Office    Berlin      Berlin      Germany  Central    Jun    7     2  \n",
       "2     Consumer   Porirua  Wellington  New Zealand  Oceania    Dec   12    13  \n",
       "\n",
       "[3 rows x 23 columns]"
      ]
     },
     "execution_count": 19,
     "metadata": {},
     "output_type": "execute_result"
    }
   ],
   "source": [
    "df.head(3)"
   ]
  },
  {
   "cell_type": "code",
   "execution_count": 20,
   "metadata": {},
   "outputs": [
    {
     "data": {
      "text/plain": [
       "4      6629\n",
       "3      6564\n",
       "5      6545\n",
       "1      6539\n",
       "2      6482\n",
       "1      3756\n",
       "3      3743\n",
       "2      3727\n",
       "5      3649\n",
       "4      3647\n",
       "abc       1\n",
       "Name: Quantity, dtype: int64"
      ]
     },
     "execution_count": 20,
     "metadata": {},
     "output_type": "execute_result"
    }
   ],
   "source": [
    "df['Quantity'].value_counts()\n"
   ]
  },
  {
   "cell_type": "code",
   "execution_count": 21,
   "metadata": {},
   "outputs": [],
   "source": [
    "df = df[df.Quantity != 'abc']"
   ]
  },
  {
   "cell_type": "code",
   "execution_count": 22,
   "metadata": {},
   "outputs": [
    {
     "data": {
      "text/plain": [
       "4    6629\n",
       "3    6564\n",
       "5    6545\n",
       "1    6539\n",
       "2    6482\n",
       "1    3756\n",
       "3    3743\n",
       "2    3727\n",
       "5    3649\n",
       "4    3647\n",
       "Name: Quantity, dtype: int64"
      ]
     },
     "execution_count": 22,
     "metadata": {},
     "output_type": "execute_result"
    }
   ],
   "source": [
    "df['Quantity'].value_counts()\n"
   ]
  },
  {
   "cell_type": "code",
   "execution_count": 23,
   "metadata": {},
   "outputs": [],
   "source": [
    "df['Quantity'] =df['Quantity'].astype(int)"
   ]
  },
  {
   "cell_type": "code",
   "execution_count": 24,
   "metadata": {},
   "outputs": [],
   "source": [
    "df = df[df.Sales != 'x']"
   ]
  },
  {
   "cell_type": "code",
   "execution_count": 25,
   "metadata": {},
   "outputs": [],
   "source": [
    "df['Sales'] = df['Sales'].astype(float)"
   ]
  },
  {
   "cell_type": "code",
   "execution_count": 26,
   "metadata": {},
   "outputs": [
    {
     "data": {
      "text/plain": [
       "Order ID                    object\n",
       "Order Date                  object\n",
       "Ship Date           datetime64[ns]\n",
       "Aging                      float64\n",
       "Ship Mode                   object\n",
       "Product Category            object\n",
       "Product                     object\n",
       "Sales                      float64\n",
       "Quantity                     int64\n",
       "Discount                    object\n",
       "Profit                      object\n",
       "Shipping Cost               object\n",
       "Order Priority              object\n",
       "Customer ID                 object\n",
       "Customer Name               object\n",
       "Segment                     object\n",
       "City                        object\n",
       "State                       object\n",
       "Country                     object\n",
       "Region                      object\n",
       "Months                      object\n",
       "mois                         int64\n",
       "jours                        int64\n",
       "dtype: object"
      ]
     },
     "execution_count": 26,
     "metadata": {},
     "output_type": "execute_result"
    }
   ],
   "source": [
    "df.dtypes"
   ]
  },
  {
   "cell_type": "code",
   "execution_count": 27,
   "metadata": {},
   "outputs": [],
   "source": [
    "df['Discount'].value_counts()\n",
    "df = df[df.Discount != 'xxx']\n",
    "df['Discount'] = df['Discount'].astype(float)"
   ]
  },
  {
   "cell_type": "code",
   "execution_count": 28,
   "metadata": {},
   "outputs": [
    {
     "data": {
      "text/html": [
       "<div>\n",
       "<style scoped>\n",
       "    .dataframe tbody tr th:only-of-type {\n",
       "        vertical-align: middle;\n",
       "    }\n",
       "\n",
       "    .dataframe tbody tr th {\n",
       "        vertical-align: top;\n",
       "    }\n",
       "\n",
       "    .dataframe thead th {\n",
       "        text-align: right;\n",
       "    }\n",
       "</style>\n",
       "<table border=\"1\" class=\"dataframe\">\n",
       "  <thead>\n",
       "    <tr style=\"text-align: right;\">\n",
       "      <th></th>\n",
       "      <th>Order ID</th>\n",
       "      <th>Order Date</th>\n",
       "      <th>Ship Date</th>\n",
       "      <th>Aging</th>\n",
       "      <th>Ship Mode</th>\n",
       "      <th>Product Category</th>\n",
       "      <th>Product</th>\n",
       "      <th>Sales</th>\n",
       "      <th>Quantity</th>\n",
       "      <th>Discount</th>\n",
       "      <th>...</th>\n",
       "      <th>Customer ID</th>\n",
       "      <th>Customer Name</th>\n",
       "      <th>Segment</th>\n",
       "      <th>City</th>\n",
       "      <th>State</th>\n",
       "      <th>Country</th>\n",
       "      <th>Region</th>\n",
       "      <th>Months</th>\n",
       "      <th>mois</th>\n",
       "      <th>jours</th>\n",
       "    </tr>\n",
       "  </thead>\n",
       "  <tbody>\n",
       "    <tr>\n",
       "      <th>0</th>\n",
       "      <td>AU-2015-1</td>\n",
       "      <td>11/9/15</td>\n",
       "      <td>2015-11-17</td>\n",
       "      <td>8.0</td>\n",
       "      <td>First Class</td>\n",
       "      <td>Auto &amp; Accessories</td>\n",
       "      <td>Car Media Players</td>\n",
       "      <td>40.0</td>\n",
       "      <td>2</td>\n",
       "      <td>0.05</td>\n",
       "      <td>...</td>\n",
       "      <td>LS-001</td>\n",
       "      <td>Lane Daniels</td>\n",
       "      <td>Consumer</td>\n",
       "      <td>Brisbane</td>\n",
       "      <td>Queensland</td>\n",
       "      <td>Australia</td>\n",
       "      <td>Oceania</td>\n",
       "      <td>Nov</td>\n",
       "      <td>11</td>\n",
       "      <td>17</td>\n",
       "    </tr>\n",
       "    <tr>\n",
       "      <th>1</th>\n",
       "      <td>AU-2015-2</td>\n",
       "      <td>6/30/15</td>\n",
       "      <td>2015-07-02</td>\n",
       "      <td>2.0</td>\n",
       "      <td>First Class</td>\n",
       "      <td>Auto &amp; Accessories</td>\n",
       "      <td>Car Speakers</td>\n",
       "      <td>11.0</td>\n",
       "      <td>3</td>\n",
       "      <td>0.03</td>\n",
       "      <td>...</td>\n",
       "      <td>IZ-002</td>\n",
       "      <td>Alvarado Kriz</td>\n",
       "      <td>Home Office</td>\n",
       "      <td>Berlin</td>\n",
       "      <td>Berlin</td>\n",
       "      <td>Germany</td>\n",
       "      <td>Central</td>\n",
       "      <td>Jun</td>\n",
       "      <td>7</td>\n",
       "      <td>2</td>\n",
       "    </tr>\n",
       "    <tr>\n",
       "      <th>2</th>\n",
       "      <td>AU-2015-3</td>\n",
       "      <td>12/5/15</td>\n",
       "      <td>2015-12-13</td>\n",
       "      <td>8.0</td>\n",
       "      <td>First Class</td>\n",
       "      <td>Auto &amp; Accessories</td>\n",
       "      <td>Car Body Covers</td>\n",
       "      <td>17.0</td>\n",
       "      <td>5</td>\n",
       "      <td>0.01</td>\n",
       "      <td>...</td>\n",
       "      <td>EN-003</td>\n",
       "      <td>Moon Weien</td>\n",
       "      <td>Consumer</td>\n",
       "      <td>Porirua</td>\n",
       "      <td>Wellington</td>\n",
       "      <td>New Zealand</td>\n",
       "      <td>Oceania</td>\n",
       "      <td>Dec</td>\n",
       "      <td>12</td>\n",
       "      <td>13</td>\n",
       "    </tr>\n",
       "  </tbody>\n",
       "</table>\n",
       "<p>3 rows × 23 columns</p>\n",
       "</div>"
      ],
      "text/plain": [
       "    Order ID Order Date  Ship Date  Aging    Ship Mode    Product Category  \\\n",
       "0  AU-2015-1    11/9/15 2015-11-17    8.0  First Class  Auto & Accessories   \n",
       "1  AU-2015-2    6/30/15 2015-07-02    2.0  First Class  Auto & Accessories   \n",
       "2  AU-2015-3    12/5/15 2015-12-13    8.0  First Class  Auto & Accessories   \n",
       "\n",
       "             Product  Sales  Quantity  Discount  ... Customer ID  \\\n",
       "0  Car Media Players   40.0         2      0.05  ...      LS-001   \n",
       "1       Car Speakers   11.0         3      0.03  ...      IZ-002   \n",
       "2    Car Body Covers   17.0         5      0.01  ...      EN-003   \n",
       "\n",
       "   Customer Name      Segment      City       State      Country   Region  \\\n",
       "0   Lane Daniels     Consumer  Brisbane  Queensland    Australia  Oceania   \n",
       "1  Alvarado Kriz  Home Office    Berlin      Berlin      Germany  Central   \n",
       "2     Moon Weien     Consumer   Porirua  Wellington  New Zealand  Oceania   \n",
       "\n",
       "  Months mois jours  \n",
       "0    Nov   11    17  \n",
       "1    Jun    7     2  \n",
       "2    Dec   12    13  \n",
       "\n",
       "[3 rows x 23 columns]"
      ]
     },
     "execution_count": 28,
     "metadata": {},
     "output_type": "execute_result"
    }
   ],
   "source": [
    "df.head(3)"
   ]
  },
  {
   "cell_type": "code",
   "execution_count": 29,
   "metadata": {},
   "outputs": [
    {
     "data": {
      "text/plain": [
       "Index(['Order ID', 'Order Date', 'Ship Date', 'Aging', 'Ship Mode',\n",
       "       'Product Category', 'Product', 'Sales', 'Quantity', 'Discount',\n",
       "       'Profit', 'Shipping Cost', 'Order Priority', 'Customer ID',\n",
       "       'Customer Name', 'Segment', 'City', 'State', 'Country', 'Region',\n",
       "       'Months', 'mois', 'jours'],\n",
       "      dtype='object')"
      ]
     },
     "execution_count": 29,
     "metadata": {},
     "output_type": "execute_result"
    }
   ],
   "source": [
    "df.columns"
   ]
  },
  {
   "cell_type": "code",
   "execution_count": 30,
   "metadata": {},
   "outputs": [],
   "source": [
    "df['Order ID'].value_counts()\n",
    "df['Discount'] = df['Discount'].astype(float)"
   ]
  },
  {
   "cell_type": "code",
   "execution_count": 31,
   "metadata": {},
   "outputs": [],
   "source": [
    "df.to_csv('/Users/macosx/Downloads/ecommerce_vf.csv')"
   ]
  },
  {
   "cell_type": "code",
   "execution_count": 32,
   "metadata": {},
   "outputs": [],
   "source": [
    "df1=pd.read_csv('/Users/macosx/Downloads/ecommerce_vf.csv')"
   ]
  },
  {
   "cell_type": "code",
   "execution_count": 33,
   "metadata": {},
   "outputs": [
    {
     "data": {
      "text/html": [
       "<div>\n",
       "<style scoped>\n",
       "    .dataframe tbody tr th:only-of-type {\n",
       "        vertical-align: middle;\n",
       "    }\n",
       "\n",
       "    .dataframe tbody tr th {\n",
       "        vertical-align: top;\n",
       "    }\n",
       "\n",
       "    .dataframe thead th {\n",
       "        text-align: right;\n",
       "    }\n",
       "</style>\n",
       "<table border=\"1\" class=\"dataframe\">\n",
       "  <thead>\n",
       "    <tr style=\"text-align: right;\">\n",
       "      <th></th>\n",
       "      <th>Unnamed: 0</th>\n",
       "      <th>Order ID</th>\n",
       "      <th>Order Date</th>\n",
       "      <th>Ship Date</th>\n",
       "      <th>Aging</th>\n",
       "      <th>Ship Mode</th>\n",
       "      <th>Product Category</th>\n",
       "      <th>Product</th>\n",
       "      <th>Sales</th>\n",
       "      <th>Quantity</th>\n",
       "      <th>...</th>\n",
       "      <th>Customer ID</th>\n",
       "      <th>Customer Name</th>\n",
       "      <th>Segment</th>\n",
       "      <th>City</th>\n",
       "      <th>State</th>\n",
       "      <th>Country</th>\n",
       "      <th>Region</th>\n",
       "      <th>Months</th>\n",
       "      <th>mois</th>\n",
       "      <th>jours</th>\n",
       "    </tr>\n",
       "  </thead>\n",
       "  <tbody>\n",
       "    <tr>\n",
       "      <th>0</th>\n",
       "      <td>0</td>\n",
       "      <td>AU-2015-1</td>\n",
       "      <td>11/9/15</td>\n",
       "      <td>2015-11-17</td>\n",
       "      <td>8.0</td>\n",
       "      <td>First Class</td>\n",
       "      <td>Auto &amp; Accessories</td>\n",
       "      <td>Car Media Players</td>\n",
       "      <td>40.0</td>\n",
       "      <td>2</td>\n",
       "      <td>...</td>\n",
       "      <td>LS-001</td>\n",
       "      <td>Lane Daniels</td>\n",
       "      <td>Consumer</td>\n",
       "      <td>Brisbane</td>\n",
       "      <td>Queensland</td>\n",
       "      <td>Australia</td>\n",
       "      <td>Oceania</td>\n",
       "      <td>Nov</td>\n",
       "      <td>11</td>\n",
       "      <td>17</td>\n",
       "    </tr>\n",
       "    <tr>\n",
       "      <th>1</th>\n",
       "      <td>1</td>\n",
       "      <td>AU-2015-2</td>\n",
       "      <td>6/30/15</td>\n",
       "      <td>2015-07-02</td>\n",
       "      <td>2.0</td>\n",
       "      <td>First Class</td>\n",
       "      <td>Auto &amp; Accessories</td>\n",
       "      <td>Car Speakers</td>\n",
       "      <td>11.0</td>\n",
       "      <td>3</td>\n",
       "      <td>...</td>\n",
       "      <td>IZ-002</td>\n",
       "      <td>Alvarado Kriz</td>\n",
       "      <td>Home Office</td>\n",
       "      <td>Berlin</td>\n",
       "      <td>Berlin</td>\n",
       "      <td>Germany</td>\n",
       "      <td>Central</td>\n",
       "      <td>Jun</td>\n",
       "      <td>7</td>\n",
       "      <td>2</td>\n",
       "    </tr>\n",
       "    <tr>\n",
       "      <th>2</th>\n",
       "      <td>2</td>\n",
       "      <td>AU-2015-3</td>\n",
       "      <td>12/5/15</td>\n",
       "      <td>2015-12-13</td>\n",
       "      <td>8.0</td>\n",
       "      <td>First Class</td>\n",
       "      <td>Auto &amp; Accessories</td>\n",
       "      <td>Car Body Covers</td>\n",
       "      <td>17.0</td>\n",
       "      <td>5</td>\n",
       "      <td>...</td>\n",
       "      <td>EN-003</td>\n",
       "      <td>Moon Weien</td>\n",
       "      <td>Consumer</td>\n",
       "      <td>Porirua</td>\n",
       "      <td>Wellington</td>\n",
       "      <td>New Zealand</td>\n",
       "      <td>Oceania</td>\n",
       "      <td>Dec</td>\n",
       "      <td>12</td>\n",
       "      <td>13</td>\n",
       "    </tr>\n",
       "    <tr>\n",
       "      <th>3</th>\n",
       "      <td>3</td>\n",
       "      <td>AU-2015-4</td>\n",
       "      <td>5/9/15</td>\n",
       "      <td>2015-05-16</td>\n",
       "      <td>7.0</td>\n",
       "      <td>First Class</td>\n",
       "      <td>Auto &amp; Accessories</td>\n",
       "      <td>Car &amp; Bike Care</td>\n",
       "      <td>18.0</td>\n",
       "      <td>2</td>\n",
       "      <td>...</td>\n",
       "      <td>AN-004</td>\n",
       "      <td>Sanchez Bergman</td>\n",
       "      <td>Corporate</td>\n",
       "      <td>Kabul</td>\n",
       "      <td>Kabul</td>\n",
       "      <td>Afghanistan</td>\n",
       "      <td>Central Asia</td>\n",
       "      <td>May</td>\n",
       "      <td>5</td>\n",
       "      <td>16</td>\n",
       "    </tr>\n",
       "    <tr>\n",
       "      <th>4</th>\n",
       "      <td>4</td>\n",
       "      <td>AU-2015-5</td>\n",
       "      <td>7/9/15</td>\n",
       "      <td>2015-07-18</td>\n",
       "      <td>9.0</td>\n",
       "      <td>First Class</td>\n",
       "      <td>Auto &amp; Accessories</td>\n",
       "      <td>Tyre</td>\n",
       "      <td>50.0</td>\n",
       "      <td>1</td>\n",
       "      <td>...</td>\n",
       "      <td>ON-005</td>\n",
       "      <td>Rowe Jackson</td>\n",
       "      <td>Corporate</td>\n",
       "      <td>Townsville</td>\n",
       "      <td>Queensland</td>\n",
       "      <td>Australia</td>\n",
       "      <td>Oceania</td>\n",
       "      <td>Jul</td>\n",
       "      <td>7</td>\n",
       "      <td>18</td>\n",
       "    </tr>\n",
       "  </tbody>\n",
       "</table>\n",
       "<p>5 rows × 24 columns</p>\n",
       "</div>"
      ],
      "text/plain": [
       "   Unnamed: 0   Order ID Order Date   Ship Date  Aging    Ship Mode  \\\n",
       "0           0  AU-2015-1    11/9/15  2015-11-17    8.0  First Class   \n",
       "1           1  AU-2015-2    6/30/15  2015-07-02    2.0  First Class   \n",
       "2           2  AU-2015-3    12/5/15  2015-12-13    8.0  First Class   \n",
       "3           3  AU-2015-4     5/9/15  2015-05-16    7.0  First Class   \n",
       "4           4  AU-2015-5     7/9/15  2015-07-18    9.0  First Class   \n",
       "\n",
       "     Product Category            Product  Sales  Quantity  ...  Customer ID  \\\n",
       "0  Auto & Accessories  Car Media Players   40.0         2  ...       LS-001   \n",
       "1  Auto & Accessories       Car Speakers   11.0         3  ...       IZ-002   \n",
       "2  Auto & Accessories    Car Body Covers   17.0         5  ...       EN-003   \n",
       "3  Auto & Accessories    Car & Bike Care   18.0         2  ...       AN-004   \n",
       "4  Auto & Accessories               Tyre   50.0         1  ...       ON-005   \n",
       "\n",
       "     Customer Name      Segment        City       State      Country  \\\n",
       "0     Lane Daniels     Consumer    Brisbane  Queensland    Australia   \n",
       "1    Alvarado Kriz  Home Office      Berlin      Berlin      Germany   \n",
       "2       Moon Weien     Consumer     Porirua  Wellington  New Zealand   \n",
       "3  Sanchez Bergman    Corporate       Kabul       Kabul  Afghanistan   \n",
       "4     Rowe Jackson    Corporate  Townsville  Queensland    Australia   \n",
       "\n",
       "         Region Months mois jours  \n",
       "0       Oceania    Nov   11    17  \n",
       "1       Central    Jun    7     2  \n",
       "2       Oceania    Dec   12    13  \n",
       "3  Central Asia    May    5    16  \n",
       "4       Oceania    Jul    7    18  \n",
       "\n",
       "[5 rows x 24 columns]"
      ]
     },
     "execution_count": 33,
     "metadata": {},
     "output_type": "execute_result"
    }
   ],
   "source": [
    "df1.head()"
   ]
  },
  {
   "cell_type": "code",
   "execution_count": 34,
   "metadata": {},
   "outputs": [
    {
     "data": {
      "text/plain": [
       "Unnamed: 0            int64\n",
       "Order ID             object\n",
       "Order Date           object\n",
       "Ship Date            object\n",
       "Aging               float64\n",
       "Ship Mode            object\n",
       "Product Category     object\n",
       "Product              object\n",
       "Sales               float64\n",
       "Quantity              int64\n",
       "Discount            float64\n",
       "Profit              float64\n",
       "Shipping Cost        object\n",
       "Order Priority       object\n",
       "Customer ID          object\n",
       "Customer Name        object\n",
       "Segment              object\n",
       "City                 object\n",
       "State                object\n",
       "Country              object\n",
       "Region               object\n",
       "Months               object\n",
       "mois                  int64\n",
       "jours                 int64\n",
       "dtype: object"
      ]
     },
     "execution_count": 34,
     "metadata": {},
     "output_type": "execute_result"
    }
   ],
   "source": [
    "df1.dtypes"
   ]
  },
  {
   "cell_type": "code",
   "execution_count": 35,
   "metadata": {},
   "outputs": [
    {
     "data": {
      "text/plain": [
       "0         $4.60 \n",
       "1        $11.20 \n",
       "2         $3.10 \n",
       "3         $2.60 \n",
       "4        $16.00 \n",
       "          ...   \n",
       "51274     $1.70 \n",
       "51275     $0.20 \n",
       "51276     $0.10 \n",
       "51277     $2.80 \n",
       "51278     $2.80 \n",
       "Name: Shipping Cost, Length: 51279, dtype: object"
      ]
     },
     "execution_count": 35,
     "metadata": {},
     "output_type": "execute_result"
    }
   ],
   "source": [
    "df1['Shipping Cost']"
   ]
  },
  {
   "cell_type": "code",
   "execution_count": 36,
   "metadata": {},
   "outputs": [],
   "source": [
    "df2= df1[:5000]"
   ]
  },
  {
   "cell_type": "code",
   "execution_count": 38,
   "metadata": {},
   "outputs": [
    {
     "data": {
      "text/plain": [
       "Unnamed: 0            int64\n",
       "Order ID             object\n",
       "Order Date           object\n",
       "Ship Date            object\n",
       "Aging               float64\n",
       "Ship Mode            object\n",
       "Product Category     object\n",
       "Product              object\n",
       "Sales               float64\n",
       "Quantity              int64\n",
       "Discount            float64\n",
       "Profit              float64\n",
       "Shipping Cost        object\n",
       "Order Priority       object\n",
       "Customer ID          object\n",
       "Customer Name        object\n",
       "Segment              object\n",
       "City                 object\n",
       "State                object\n",
       "Country              object\n",
       "Region               object\n",
       "Months               object\n",
       "mois                  int64\n",
       "jours                 int64\n",
       "dtype: object"
      ]
     },
     "execution_count": 38,
     "metadata": {},
     "output_type": "execute_result"
    }
   ],
   "source": [
    "df2.dtypes"
   ]
  },
  {
   "cell_type": "code",
   "execution_count": 44,
   "metadata": {},
   "outputs": [
    {
     "data": {
      "text/plain": [
       "'0       0       2015-11-17\\\\n1       2015-07-02\\\\n2     ...\\n1       0       2015-11-17\\\\n1       2015-07-02\\\\n2     ...\\n2       0       2015-11-17\\\\n1       2015-07-02\\\\n2     ...\\n3       0       2015-11-17\\\\n1       2015-07-02\\\\n2     ...\\n4       0       2015-11-17\\\\n1       2015-07-02\\\\n2     ...\\n                              ...                        \\n4995    0       2015-11-17\\\\n1       2015-07-02\\\\n2     ...\\n4996    0       2015-11-17\\\\n1       2015-07-02\\\\n2     ...\\n4997    0       2015-11-17\\\\n1       2015-07-02\\\\n2     ...\\n4998    0       2015-11-17\\\\n1       2015-07-02\\\\n2     ...\\n4999    0       2015-11-17\\\\n1       2015-07-02\\\\n2     ...\\nName: Ship Date, Length: 5000, dtype: object'"
      ]
     },
     "execution_count": 44,
     "metadata": {},
     "output_type": "execute_result"
    }
   ],
   "source": [
    "str(df2['Ship Date'])"
   ]
  },
  {
   "cell_type": "code",
   "execution_count": 45,
   "metadata": {},
   "outputs": [
    {
     "data": {
      "text/plain": [
       "Unnamed: 0            int64\n",
       "Order ID             object\n",
       "Order Date           object\n",
       "Ship Date            object\n",
       "Aging               float64\n",
       "Ship Mode            object\n",
       "Product Category     object\n",
       "Product              object\n",
       "Sales               float64\n",
       "Quantity              int64\n",
       "Discount            float64\n",
       "Profit              float64\n",
       "Shipping Cost        object\n",
       "Order Priority       object\n",
       "Customer ID          object\n",
       "Customer Name        object\n",
       "Segment              object\n",
       "City                 object\n",
       "State                object\n",
       "Country              object\n",
       "Region               object\n",
       "Months               object\n",
       "mois                  int64\n",
       "jours                 int64\n",
       "dtype: object"
      ]
     },
     "execution_count": 45,
     "metadata": {},
     "output_type": "execute_result"
    }
   ],
   "source": [
    "df2.dtypes"
   ]
  },
  {
   "cell_type": "code",
   "execution_count": null,
   "metadata": {},
   "outputs": [],
   "source": []
  },
  {
   "cell_type": "code",
   "execution_count": 39,
   "metadata": {},
   "outputs": [],
   "source": [
    "df2.to_csv('/Users/macosx/Downloads/ecommerce_vf1.csv')"
   ]
  },
  {
   "cell_type": "code",
   "execution_count": 40,
   "metadata": {},
   "outputs": [],
   "source": [
    "df3=df2[['Product','Product Category']]\n",
    "df4=df2[['Sales','Quantity']]\n",
    "df5=df2[['Discount','Quantity','Profit']]\n",
    "df6=df2[['Ship Date','mois','jours']]\n",
    "df7=df2[['Segment']]\n",
    "df8=df2[['Region','State','Country','City']]\n",
    "\n"
   ]
  },
  {
   "cell_type": "code",
   "execution_count": 41,
   "metadata": {},
   "outputs": [
    {
     "data": {
      "text/html": [
       "<div>\n",
       "<style scoped>\n",
       "    .dataframe tbody tr th:only-of-type {\n",
       "        vertical-align: middle;\n",
       "    }\n",
       "\n",
       "    .dataframe tbody tr th {\n",
       "        vertical-align: top;\n",
       "    }\n",
       "\n",
       "    .dataframe thead th {\n",
       "        text-align: right;\n",
       "    }\n",
       "</style>\n",
       "<table border=\"1\" class=\"dataframe\">\n",
       "  <thead>\n",
       "    <tr style=\"text-align: right;\">\n",
       "      <th></th>\n",
       "      <th>Region</th>\n",
       "      <th>State</th>\n",
       "      <th>Country</th>\n",
       "      <th>City</th>\n",
       "    </tr>\n",
       "  </thead>\n",
       "  <tbody>\n",
       "    <tr>\n",
       "      <th>0</th>\n",
       "      <td>Oceania</td>\n",
       "      <td>Queensland</td>\n",
       "      <td>Australia</td>\n",
       "      <td>Brisbane</td>\n",
       "    </tr>\n",
       "    <tr>\n",
       "      <th>1</th>\n",
       "      <td>Central</td>\n",
       "      <td>Berlin</td>\n",
       "      <td>Germany</td>\n",
       "      <td>Berlin</td>\n",
       "    </tr>\n",
       "    <tr>\n",
       "      <th>2</th>\n",
       "      <td>Oceania</td>\n",
       "      <td>Wellington</td>\n",
       "      <td>New Zealand</td>\n",
       "      <td>Porirua</td>\n",
       "    </tr>\n",
       "    <tr>\n",
       "      <th>3</th>\n",
       "      <td>Central Asia</td>\n",
       "      <td>Kabul</td>\n",
       "      <td>Afghanistan</td>\n",
       "      <td>Kabul</td>\n",
       "    </tr>\n",
       "    <tr>\n",
       "      <th>4</th>\n",
       "      <td>Oceania</td>\n",
       "      <td>Queensland</td>\n",
       "      <td>Australia</td>\n",
       "      <td>Townsville</td>\n",
       "    </tr>\n",
       "    <tr>\n",
       "      <th>...</th>\n",
       "      <td>...</td>\n",
       "      <td>...</td>\n",
       "      <td>...</td>\n",
       "      <td>...</td>\n",
       "    </tr>\n",
       "    <tr>\n",
       "      <th>195</th>\n",
       "      <td>Canada</td>\n",
       "      <td>British Columbia</td>\n",
       "      <td>Canada</td>\n",
       "      <td>Vancouver</td>\n",
       "    </tr>\n",
       "    <tr>\n",
       "      <th>196</th>\n",
       "      <td>North</td>\n",
       "      <td>Stockholm</td>\n",
       "      <td>Sweden</td>\n",
       "      <td>Haninge</td>\n",
       "    </tr>\n",
       "    <tr>\n",
       "      <th>197</th>\n",
       "      <td>South</td>\n",
       "      <td>Georgia</td>\n",
       "      <td>United States</td>\n",
       "      <td>Atlanta</td>\n",
       "    </tr>\n",
       "    <tr>\n",
       "      <th>198</th>\n",
       "      <td>Central</td>\n",
       "      <td>Minnesota</td>\n",
       "      <td>United States</td>\n",
       "      <td>Minneapolis</td>\n",
       "    </tr>\n",
       "    <tr>\n",
       "      <th>199</th>\n",
       "      <td>South</td>\n",
       "      <td>Campania</td>\n",
       "      <td>Italy</td>\n",
       "      <td>Pozzuoli</td>\n",
       "    </tr>\n",
       "  </tbody>\n",
       "</table>\n",
       "<p>200 rows × 4 columns</p>\n",
       "</div>"
      ],
      "text/plain": [
       "           Region             State        Country         City\n",
       "0         Oceania        Queensland      Australia     Brisbane\n",
       "1         Central            Berlin        Germany       Berlin\n",
       "2         Oceania        Wellington    New Zealand      Porirua\n",
       "3    Central Asia             Kabul    Afghanistan        Kabul\n",
       "4         Oceania        Queensland      Australia   Townsville\n",
       "..            ...               ...            ...          ...\n",
       "195        Canada  British Columbia         Canada    Vancouver\n",
       "196         North         Stockholm         Sweden      Haninge\n",
       "197         South           Georgia  United States      Atlanta\n",
       "198       Central         Minnesota  United States  Minneapolis\n",
       "199         South          Campania          Italy     Pozzuoli\n",
       "\n",
       "[200 rows x 4 columns]"
      ]
     },
     "execution_count": 41,
     "metadata": {},
     "output_type": "execute_result"
    }
   ],
   "source": [
    "df8"
   ]
  },
  {
   "cell_type": "code",
   "execution_count": 42,
   "metadata": {},
   "outputs": [],
   "source": [
    "df3.to_csv('/Users/macosx/Downloads/product.csv' , index = None)\n",
    "df4.to_csv('/Users/macosx/Downloads/vente.csv')\n",
    "df5.to_csv('/Users/macosx/Downloads/promo.csv')\n",
    "df6.to_csv('/Users/macosx/Downloads/date.csv')\n",
    "df7.to_csv('/Users/macosx/Downloads/customer.csv')\n",
    "df8.to_csv('/Users/macosx/Downloads/region.csv')"
   ]
  },
  {
   "cell_type": "code",
   "execution_count": 43,
   "metadata": {},
   "outputs": [
    {
     "data": {
      "text/html": [
       "<div>\n",
       "<style scoped>\n",
       "    .dataframe tbody tr th:only-of-type {\n",
       "        vertical-align: middle;\n",
       "    }\n",
       "\n",
       "    .dataframe tbody tr th {\n",
       "        vertical-align: top;\n",
       "    }\n",
       "\n",
       "    .dataframe thead th {\n",
       "        text-align: right;\n",
       "    }\n",
       "</style>\n",
       "<table border=\"1\" class=\"dataframe\">\n",
       "  <thead>\n",
       "    <tr style=\"text-align: right;\">\n",
       "      <th></th>\n",
       "      <th>Discount</th>\n",
       "      <th>Quantity</th>\n",
       "      <th>Profit</th>\n",
       "    </tr>\n",
       "  </thead>\n",
       "  <tbody>\n",
       "    <tr>\n",
       "      <th>0</th>\n",
       "      <td>0.05</td>\n",
       "      <td>2</td>\n",
       "      <td>6.0</td>\n",
       "    </tr>\n",
       "    <tr>\n",
       "      <th>1</th>\n",
       "      <td>0.03</td>\n",
       "      <td>3</td>\n",
       "      <td>12.0</td>\n",
       "    </tr>\n",
       "    <tr>\n",
       "      <th>2</th>\n",
       "      <td>0.01</td>\n",
       "      <td>5</td>\n",
       "      <td>1.2</td>\n",
       "    </tr>\n",
       "    <tr>\n",
       "      <th>3</th>\n",
       "      <td>0.05</td>\n",
       "      <td>2</td>\n",
       "      <td>6.2</td>\n",
       "    </tr>\n",
       "    <tr>\n",
       "      <th>4</th>\n",
       "      <td>0.04</td>\n",
       "      <td>1</td>\n",
       "      <td>60.0</td>\n",
       "    </tr>\n",
       "  </tbody>\n",
       "</table>\n",
       "</div>"
      ],
      "text/plain": [
       "   Discount  Quantity  Profit\n",
       "0      0.05         2     6.0\n",
       "1      0.03         3    12.0\n",
       "2      0.01         5     1.2\n",
       "3      0.05         2     6.2\n",
       "4      0.04         1    60.0"
      ]
     },
     "execution_count": 43,
     "metadata": {},
     "output_type": "execute_result"
    }
   ],
   "source": [
    "df5.head()"
   ]
  },
  {
   "cell_type": "code",
   "execution_count": 44,
   "metadata": {},
   "outputs": [
    {
     "data": {
      "text/html": [
       "<div>\n",
       "<style scoped>\n",
       "    .dataframe tbody tr th:only-of-type {\n",
       "        vertical-align: middle;\n",
       "    }\n",
       "\n",
       "    .dataframe tbody tr th {\n",
       "        vertical-align: top;\n",
       "    }\n",
       "\n",
       "    .dataframe thead th {\n",
       "        text-align: right;\n",
       "    }\n",
       "</style>\n",
       "<table border=\"1\" class=\"dataframe\">\n",
       "  <thead>\n",
       "    <tr style=\"text-align: right;\">\n",
       "      <th></th>\n",
       "      <th>Product</th>\n",
       "      <th>Product Category</th>\n",
       "    </tr>\n",
       "  </thead>\n",
       "  <tbody>\n",
       "    <tr>\n",
       "      <th>0</th>\n",
       "      <td>Car Media Players</td>\n",
       "      <td>Auto &amp; Accessories</td>\n",
       "    </tr>\n",
       "    <tr>\n",
       "      <th>1</th>\n",
       "      <td>Car Speakers</td>\n",
       "      <td>Auto &amp; Accessories</td>\n",
       "    </tr>\n",
       "    <tr>\n",
       "      <th>2</th>\n",
       "      <td>Car Body Covers</td>\n",
       "      <td>Auto &amp; Accessories</td>\n",
       "    </tr>\n",
       "    <tr>\n",
       "      <th>3</th>\n",
       "      <td>Car &amp; Bike Care</td>\n",
       "      <td>Auto &amp; Accessories</td>\n",
       "    </tr>\n",
       "    <tr>\n",
       "      <th>4</th>\n",
       "      <td>Tyre</td>\n",
       "      <td>Auto &amp; Accessories</td>\n",
       "    </tr>\n",
       "  </tbody>\n",
       "</table>\n",
       "</div>"
      ],
      "text/plain": [
       "             Product    Product Category\n",
       "0  Car Media Players  Auto & Accessories\n",
       "1       Car Speakers  Auto & Accessories\n",
       "2    Car Body Covers  Auto & Accessories\n",
       "3    Car & Bike Care  Auto & Accessories\n",
       "4               Tyre  Auto & Accessories"
      ]
     },
     "execution_count": 44,
     "metadata": {},
     "output_type": "execute_result"
    }
   ],
   "source": [
    "dff= pd.read_csv('/Users/macosx/Downloads/product.csv')\n",
    "dff.head()"
   ]
  },
  {
   "cell_type": "code",
   "execution_count": 54,
   "metadata": {},
   "outputs": [
    {
     "data": {
      "text/plain": [
       "0      40.0\n",
       "1      11.0\n",
       "2      17.0\n",
       "3      18.0\n",
       "4      50.0\n",
       "       ... \n",
       "195    17.0\n",
       "196    18.0\n",
       "197    50.0\n",
       "198     2.0\n",
       "199     4.0\n",
       "Name: Sales, Length: 200, dtype: float64"
      ]
     },
     "execution_count": 54,
     "metadata": {},
     "output_type": "execute_result"
    }
   ],
   "source": [
    "df4.Sales\n",
    "    "
   ]
  },
  {
   "cell_type": "code",
   "execution_count": 62,
   "metadata": {},
   "outputs": [
    {
     "data": {
      "text/plain": [
       "123456.908"
      ]
     },
     "execution_count": 62,
     "metadata": {},
     "output_type": "execute_result"
    }
   ],
   "source": [
    "float(\"123456.908\".replace(',',''))"
   ]
  },
  {
   "cell_type": "code",
   "execution_count": 63,
   "metadata": {},
   "outputs": [
    {
     "data": {
      "text/html": [
       "<div>\n",
       "<style scoped>\n",
       "    .dataframe tbody tr th:only-of-type {\n",
       "        vertical-align: middle;\n",
       "    }\n",
       "\n",
       "    .dataframe tbody tr th {\n",
       "        vertical-align: top;\n",
       "    }\n",
       "\n",
       "    .dataframe thead th {\n",
       "        text-align: right;\n",
       "    }\n",
       "</style>\n",
       "<table border=\"1\" class=\"dataframe\">\n",
       "  <thead>\n",
       "    <tr style=\"text-align: right;\">\n",
       "      <th></th>\n",
       "      <th>Segment</th>\n",
       "    </tr>\n",
       "  </thead>\n",
       "  <tbody>\n",
       "    <tr>\n",
       "      <th>0</th>\n",
       "      <td>Consumer</td>\n",
       "    </tr>\n",
       "    <tr>\n",
       "      <th>1</th>\n",
       "      <td>Home Office</td>\n",
       "    </tr>\n",
       "    <tr>\n",
       "      <th>2</th>\n",
       "      <td>Consumer</td>\n",
       "    </tr>\n",
       "    <tr>\n",
       "      <th>3</th>\n",
       "      <td>Corporate</td>\n",
       "    </tr>\n",
       "    <tr>\n",
       "      <th>4</th>\n",
       "      <td>Corporate</td>\n",
       "    </tr>\n",
       "    <tr>\n",
       "      <th>...</th>\n",
       "      <td>...</td>\n",
       "    </tr>\n",
       "    <tr>\n",
       "      <th>195</th>\n",
       "      <td>Consumer</td>\n",
       "    </tr>\n",
       "    <tr>\n",
       "      <th>196</th>\n",
       "      <td>Consumer</td>\n",
       "    </tr>\n",
       "    <tr>\n",
       "      <th>197</th>\n",
       "      <td>Consumer</td>\n",
       "    </tr>\n",
       "    <tr>\n",
       "      <th>198</th>\n",
       "      <td>Consumer</td>\n",
       "    </tr>\n",
       "    <tr>\n",
       "      <th>199</th>\n",
       "      <td>Corporate</td>\n",
       "    </tr>\n",
       "  </tbody>\n",
       "</table>\n",
       "<p>200 rows × 1 columns</p>\n",
       "</div>"
      ],
      "text/plain": [
       "         Segment\n",
       "0       Consumer\n",
       "1    Home Office\n",
       "2       Consumer\n",
       "3      Corporate\n",
       "4      Corporate\n",
       "..           ...\n",
       "195     Consumer\n",
       "196     Consumer\n",
       "197     Consumer\n",
       "198     Consumer\n",
       "199    Corporate\n",
       "\n",
       "[200 rows x 1 columns]"
      ]
     },
     "execution_count": 63,
     "metadata": {},
     "output_type": "execute_result"
    }
   ],
   "source": [
    "df7"
   ]
  },
  {
   "cell_type": "code",
   "execution_count": null,
   "metadata": {},
   "outputs": [],
   "source": []
  },
  {
   "cell_type": "code",
   "execution_count": null,
   "metadata": {},
   "outputs": [],
   "source": []
  }
 ],
 "metadata": {
  "kernelspec": {
   "display_name": "Python 3",
   "language": "python",
   "name": "python3"
  },
  "language_info": {
   "codemirror_mode": {
    "name": "ipython",
    "version": 3
   },
   "file_extension": ".py",
   "mimetype": "text/x-python",
   "name": "python",
   "nbconvert_exporter": "python",
   "pygments_lexer": "ipython3",
   "version": "3.8.5"
  }
 },
 "nbformat": 4,
 "nbformat_minor": 4
}
